{
 "cells": [
  {
   "cell_type": "code",
   "execution_count": 1,
   "id": "4e29237b-9121-443b-b6fd-27ad20639c1a",
   "metadata": {},
   "outputs": [],
   "source": [
    "import findspark\n",
    "findspark.init()"
   ]
  },
  {
   "cell_type": "code",
   "execution_count": 2,
   "id": "bbe7bc33-f3e4-4790-a0ac-9af376e72142",
   "metadata": {},
   "outputs": [],
   "source": [
    "from pyspark import SparkContext, SparkConf\n",
    "from pyspark.sql import SparkSession\n",
    "from pyspark.sql import functions as F"
   ]
  },
  {
   "cell_type": "code",
   "execution_count": 3,
   "id": "ba5550f3-7938-443c-a285-1a5438184299",
   "metadata": {},
   "outputs": [],
   "source": [
    "conf = SparkConf().setAppName('travel_operator_booking').setMaster('local')\n",
    "sc = SparkContext(conf=conf)\n",
    "spark = SparkSession(sc)"
   ]
  },
  {
   "cell_type": "code",
   "execution_count": 4,
   "id": "af8843d0-1441-4794-9980-a877d4bff094",
   "metadata": {},
   "outputs": [
    {
     "data": {
      "text/plain": [
       "DataFrame[key: string, value: string]"
      ]
     },
     "execution_count": 4,
     "metadata": {},
     "output_type": "execute_result"
    }
   ],
   "source": [
    "spark.sql(\"set spark.sql.legacy.timeParserPolicy=LEGACY\")"
   ]
  },
  {
   "cell_type": "code",
   "execution_count": 5,
   "id": "8d30f2bd-8437-43e4-9cd2-4198608f4c73",
   "metadata": {},
   "outputs": [],
   "source": [
    "hotels_data_df =spark.read.format('csv').option('header','true').load('./hotel_bookings.csv')"
   ]
  },
  {
   "cell_type": "code",
   "execution_count": 6,
   "id": "1ea8f9da-67ea-4a62-bbbf-1304c94a5ae4",
   "metadata": {},
   "outputs": [
    {
     "name": "stdout",
     "output_type": "stream",
     "text": [
      "+--------------+\n",
      "|market_segment|\n",
      "+--------------+\n",
      "| Offline TA/TO|\n",
      "| Complementary|\n",
      "|      Aviation|\n",
      "|        Direct|\n",
      "|     Undefined|\n",
      "|     Corporate|\n",
      "|     Online TA|\n",
      "|        Groups|\n",
      "+--------------+\n",
      "\n"
     ]
    }
   ],
   "source": [
    "hotels_data_df.select('market_segment').distinct().show()"
   ]
  },
  {
   "cell_type": "code",
   "execution_count": 7,
   "id": "9bb4bc11-516b-42d0-9903-a8e836539753",
   "metadata": {},
   "outputs": [],
   "source": [
    "hotels_to_data_df = hotels_data_df.where('market_segment = \"Offline TA/TO\"')"
   ]
  },
  {
   "cell_type": "code",
   "execution_count": 8,
   "id": "6d5e04ba-3768-4d55-888c-ed417a298f5f",
   "metadata": {},
   "outputs": [],
   "source": [
    "hotels_data_transformed_df = hotels_to_data_df\\\n",
    "        .withColumn('arrival_date',F.to_date(F.concat_ws(\"-\",F.col(\"arrival_date_year\"),F.col(\"arrival_date_month\"),F.col(\"arrival_date_day_of_month\")),\"yyyy-MMM-dd\"))\\\n",
    "        .withColumn('departure_date',F.expr(\"date_add(arrival_date, cast(stays_in_weekend_nights as int)+cast(stays_in_week_nights as int))\"))\\\n",
    "        .withColumn('no_of_children', F.col('children')+F.col('babies'))\\\n",
    "        .withColumn('with_family_breakfast', F.when(F.expr('no_of_children > 0'), F.lit('YES')).otherwise(F.lit('NO')))\\\n",
    "        .drop('no_of_children')"
   ]
  },
  {
   "cell_type": "code",
   "execution_count": 10,
   "id": "610ff700-2581-449b-9db8-af9d93a7b24d",
   "metadata": {},
   "outputs": [],
   "source": [
    "hotels_data_transformed_df.write.mode('overwrite').parquet('./travel_operator_booking')"
   ]
  },
  {
   "cell_type": "code",
   "execution_count": null,
   "id": "9cbe0d7e-2dd0-4e8d-9d3a-7e5e06536f5b",
   "metadata": {},
   "outputs": [],
   "source": []
  }
 ],
 "metadata": {
  "kernelspec": {
   "display_name": "Python 3 (ipykernel)",
   "language": "python",
   "name": "python3"
  },
  "language_info": {
   "codemirror_mode": {
    "name": "ipython",
    "version": 3
   },
   "file_extension": ".py",
   "mimetype": "text/x-python",
   "name": "python",
   "nbconvert_exporter": "python",
   "pygments_lexer": "ipython3",
   "version": "3.9.5"
  }
 },
 "nbformat": 4,
 "nbformat_minor": 5
}

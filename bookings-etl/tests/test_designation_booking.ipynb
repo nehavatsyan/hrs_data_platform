{
 "cells": [
  {
   "cell_type": "code",
   "execution_count": 1,
   "id": "a1a97eb6-97f1-475d-bfae-a0170df9abfd",
   "metadata": {},
   "outputs": [],
   "source": [
    "%run ../src/booking_util.py"
   ]
  },
  {
   "cell_type": "code",
   "execution_count": 2,
   "id": "9baf712c-5798-40c4-81c4-68110952374d",
   "metadata": {},
   "outputs": [],
   "source": [
    "%run test_data.py"
   ]
  },
  {
   "cell_type": "code",
   "execution_count": 3,
   "id": "b759ec57-9ae1-4459-b85d-65b69754e5de",
   "metadata": {},
   "outputs": [],
   "source": [
    "import unittest\n",
    "from pyspark import SparkContext, SparkConf\n",
    "from pyspark.sql import SparkSession\n",
    "from pyspark.sql import functions as F"
   ]
  },
  {
   "cell_type": "code",
   "execution_count": 4,
   "id": "d49572d2-bb0c-4510-b1c7-be76073b1cf1",
   "metadata": {},
   "outputs": [],
   "source": [
    "import os\n",
    "import sys\n",
    "os.environ['PYSPARK_PYTHON'] = sys.executable\n",
    "os.environ['PYSPARK_DRIVER_PYTHON'] = sys.executable"
   ]
  },
  {
   "cell_type": "code",
   "execution_count": 5,
   "id": "ab0b7941-52c5-495d-8f7d-ca52cb335898",
   "metadata": {},
   "outputs": [],
   "source": [
    "class DesignationBookingTestCase(unittest.TestCase):\n",
    "    def __init__(self, *args, **kwargs):\n",
    "        super().__init__(*args, **kwargs)\n",
    "        conf = SparkConf().setAppName('travel_operator_test_booking').setMaster('local')\n",
    "        sc = SparkContext.getOrCreate(conf=conf);\n",
    "        self.spark = SparkSession(sc)\n",
    "        self.spark.sql(\"set spark.sql.legacy.timeParserPolicy=LEGACY\")\n",
    "        \n",
    "    def test_read_csv(self):\n",
    "        actual_df = read_csv(self.spark,'./test.csv','true')\n",
    "        self.assertListEqual(expected_csv_data, actual_df.toPandas().to_dict(orient='records'))\n",
    "    \n",
    "    def test_calculate_arrival_and_departure_date(self):\n",
    "        test_df = self.spark.createDataFrame(test_arrival_departure_date)\n",
    "        output_arrival_df = calculate_arrival_date(test_df)\n",
    "        self.assertListEqual(expected_arrival_data, output_arrival_df.toPandas().to_dict(orient='records'))\n",
    "\n",
    "        output_departure_df = calculate_departure_date(output_arrival_df)\n",
    "        self.assertListEqual(expected_arrival_departure_data, output_departure_df.toPandas().to_dict(orient='records'))\n",
    "\n",
    "    def test_is_with_family_breakfast(self):\n",
    "        test_df = self.spark.createDataFrame(test_is_with_family_breakfast)\n",
    "        output_df = is_with_family_breakfast(test_df)\n",
    "        self.assertListEqual(expected_is_with_family_breakfast, output_df.toPandas().to_dict(orient='records'))\n",
    "\n",
    "    def test_write_to_parquet(self):\n",
    "        actual_df = read_csv(self.spark,'./test.csv','true')\n",
    "        write_to_parquet(actual_df,'./test_write_output')\n",
    "        actual_written_df = self.spark.read.parquet('./test_write_output')\n",
    "        self.assertListEqual(expected_csv_data, actual_written_df.toPandas().to_dict(orient='records'))\n",
    "\n"
   ]
  },
  {
   "cell_type": "code",
   "execution_count": 6,
   "id": "70b51b04-6f66-4747-8092-a7d5cdc243ff",
   "metadata": {},
   "outputs": [
    {
     "name": "stderr",
     "output_type": "stream",
     "text": [
      "test_calculate_arrival_and_departure_date (__main__.DesignationBookingTestCase) ... c:\\Users\\nehav\\AppData\\Local\\Programs\\Python\\Python39\\lib\\socket.py:775: ResourceWarning: unclosed <socket.socket fd=2444, family=AddressFamily.AF_INET, type=SocketKind.SOCK_STREAM, proto=0, laddr=('127.0.0.1', 59688), raddr=('127.0.0.1', 59687)>\n",
      "  self._sock = None\n",
      "ResourceWarning: Enable tracemalloc to get the object allocation traceback\n",
      "c:\\Users\\nehav\\AppData\\Local\\Programs\\Python\\Python39\\lib\\socket.py:775: ResourceWarning: unclosed <socket.socket fd=2464, family=AddressFamily.AF_INET, type=SocketKind.SOCK_STREAM, proto=0, laddr=('127.0.0.1', 59693), raddr=('127.0.0.1', 59692)>\n",
      "  self._sock = None\n",
      "ResourceWarning: Enable tracemalloc to get the object allocation traceback\n",
      "ok\n",
      "test_is_with_family_breakfast (__main__.DesignationBookingTestCase) ... c:\\Users\\nehav\\AppData\\Local\\Programs\\Python\\Python39\\lib\\socket.py:775: ResourceWarning: unclosed <socket.socket fd=2460, family=AddressFamily.AF_INET, type=SocketKind.SOCK_STREAM, proto=0, laddr=('127.0.0.1', 59697), raddr=('127.0.0.1', 59696)>\n",
      "  self._sock = None\n",
      "ResourceWarning: Enable tracemalloc to get the object allocation traceback\n",
      "ok\n",
      "test_read_csv (__main__.DesignationBookingTestCase) ... c:\\Users\\nehav\\AppData\\Local\\Programs\\Python\\Python39\\lib\\socket.py:775: ResourceWarning: unclosed <socket.socket fd=2392, family=AddressFamily.AF_INET, type=SocketKind.SOCK_STREAM, proto=0, laddr=('127.0.0.1', 59700), raddr=('127.0.0.1', 59699)>\n",
      "  self._sock = None\n",
      "ResourceWarning: Enable tracemalloc to get the object allocation traceback\n",
      "ok\n",
      "test_write_to_parquet (__main__.DesignationBookingTestCase) ... c:\\Users\\nehav\\AppData\\Local\\Programs\\Python\\Python39\\lib\\socket.py:775: ResourceWarning: unclosed <socket.socket fd=1332, family=AddressFamily.AF_INET, type=SocketKind.SOCK_STREAM, proto=0, laddr=('127.0.0.1', 59703), raddr=('127.0.0.1', 59702)>\n",
      "  self._sock = None\n",
      "ResourceWarning: Enable tracemalloc to get the object allocation traceback\n",
      "ok\n",
      "\n",
      "----------------------------------------------------------------------\n",
      "Ran 4 tests in 23.520s\n",
      "\n",
      "OK\n"
     ]
    },
    {
     "data": {
      "text/plain": [
       "<unittest.main.TestProgram at 0x205ff8d47f0>"
      ]
     },
     "execution_count": 6,
     "metadata": {},
     "output_type": "execute_result"
    }
   ],
   "source": [
    "unittest.main(argv=[''], verbosity=2, exit=False)"
   ]
  },
  {
   "cell_type": "code",
   "execution_count": null,
   "id": "c9096ce5-8f30-40cb-8d34-e52e4be18478",
   "metadata": {},
   "outputs": [],
   "source": []
  }
 ],
 "metadata": {
  "kernelspec": {
   "display_name": "Python 3 (ipykernel)",
   "language": "python",
   "name": "python3"
  },
  "language_info": {
   "codemirror_mode": {
    "name": "ipython",
    "version": 3
   },
   "file_extension": ".py",
   "mimetype": "text/x-python",
   "name": "python",
   "nbconvert_exporter": "python",
   "pygments_lexer": "ipython3",
   "version": "3.9.5"
  }
 },
 "nbformat": 4,
 "nbformat_minor": 5
}

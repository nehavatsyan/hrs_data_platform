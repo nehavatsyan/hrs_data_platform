{
 "cells": [
  {
   "cell_type": "code",
   "execution_count": 14,
   "id": "4e29237b-9121-443b-b6fd-27ad20639c1a",
   "metadata": {},
   "outputs": [],
   "source": [
    "import findspark\n",
    "findspark.init()"
   ]
  },
  {
   "cell_type": "code",
   "execution_count": 15,
   "id": "01152ab2-628f-47eb-b26a-db67befb7ca5",
   "metadata": {},
   "outputs": [],
   "source": [
    "SAVE_LOC = './results/travel_operator_booking'\n",
    "READ_LOC = '../assets/hotel_bookings.csv'"
   ]
  },
  {
   "cell_type": "code",
   "execution_count": 16,
   "id": "bbe7bc33-f3e4-4790-a0ac-9af376e72142",
   "metadata": {},
   "outputs": [],
   "source": [
    "from pyspark import SparkContext, SparkConf\n",
    "from pyspark.sql import SparkSession\n",
    "from pyspark.sql import functions as F"
   ]
  },
  {
   "cell_type": "code",
   "execution_count": 17,
   "id": "02a031c7-0a8d-4a87-a59b-b80bc9a1d9dd",
   "metadata": {},
   "outputs": [],
   "source": [
    "%run ./booking_util.py"
   ]
  },
  {
   "cell_type": "code",
   "execution_count": 18,
   "id": "ba5550f3-7938-443c-a285-1a5438184299",
   "metadata": {},
   "outputs": [
    {
     "ename": "ValueError",
     "evalue": "Cannot run multiple SparkContexts at once; existing SparkContext(app=travel_operator_booking, master=local) created by __init__ at C:\\Users\\nehav\\AppData\\Local\\Temp/ipykernel_26068/2168677421.py:2 ",
     "output_type": "error",
     "traceback": [
      "\u001b[1;31m--------------------------------------------------------------------------\u001b[0m",
      "\u001b[1;31mValueError\u001b[0m                               Traceback (most recent call last)",
      "\u001b[1;32m~\\AppData\\Local\\Temp/ipykernel_26068/2168677421.py\u001b[0m in \u001b[0;36m<module>\u001b[1;34m\u001b[0m\n\u001b[0;32m      1\u001b[0m \u001b[0mconf\u001b[0m \u001b[1;33m=\u001b[0m \u001b[0mSparkConf\u001b[0m\u001b[1;33m(\u001b[0m\u001b[1;33m)\u001b[0m\u001b[1;33m.\u001b[0m\u001b[0msetAppName\u001b[0m\u001b[1;33m(\u001b[0m\u001b[1;34m'travel_operator_booking'\u001b[0m\u001b[1;33m)\u001b[0m\u001b[1;33m.\u001b[0m\u001b[0msetMaster\u001b[0m\u001b[1;33m(\u001b[0m\u001b[1;34m'local'\u001b[0m\u001b[1;33m)\u001b[0m\u001b[1;33m\u001b[0m\u001b[1;33m\u001b[0m\u001b[0m\n\u001b[1;32m----> 2\u001b[1;33m \u001b[0msc\u001b[0m \u001b[1;33m=\u001b[0m \u001b[0mSparkContext\u001b[0m\u001b[1;33m(\u001b[0m\u001b[0mconf\u001b[0m\u001b[1;33m=\u001b[0m\u001b[0mconf\u001b[0m\u001b[1;33m)\u001b[0m\u001b[1;33m\u001b[0m\u001b[1;33m\u001b[0m\u001b[0m\n\u001b[0m\u001b[0;32m      3\u001b[0m \u001b[0mspark\u001b[0m \u001b[1;33m=\u001b[0m \u001b[0mSparkSession\u001b[0m\u001b[1;33m(\u001b[0m\u001b[0msc\u001b[0m\u001b[1;33m)\u001b[0m\u001b[1;33m\u001b[0m\u001b[1;33m\u001b[0m\u001b[0m\n",
      "\u001b[1;32mC:\\spark\\spark-3.1.2-bin-hadoop3.2\\python\\pyspark\\context.py\u001b[0m in \u001b[0;36m__init__\u001b[1;34m(self, master, appName, sparkHome, pyFiles, environment, batchSize, serializer, conf, gateway, jsc, profiler_cls)\u001b[0m\n\u001b[0;32m    142\u001b[0m                 \" is not allowed as it is a security risk.\")\n\u001b[0;32m    143\u001b[0m \u001b[1;33m\u001b[0m\u001b[0m\n\u001b[1;32m--> 144\u001b[1;33m         \u001b[0mSparkContext\u001b[0m\u001b[1;33m.\u001b[0m\u001b[0m_ensure_initialized\u001b[0m\u001b[1;33m(\u001b[0m\u001b[0mself\u001b[0m\u001b[1;33m,\u001b[0m \u001b[0mgateway\u001b[0m\u001b[1;33m=\u001b[0m\u001b[0mgateway\u001b[0m\u001b[1;33m,\u001b[0m \u001b[0mconf\u001b[0m\u001b[1;33m=\u001b[0m\u001b[0mconf\u001b[0m\u001b[1;33m)\u001b[0m\u001b[1;33m\u001b[0m\u001b[1;33m\u001b[0m\u001b[0m\n\u001b[0m\u001b[0;32m    145\u001b[0m         \u001b[1;32mtry\u001b[0m\u001b[1;33m:\u001b[0m\u001b[1;33m\u001b[0m\u001b[1;33m\u001b[0m\u001b[0m\n\u001b[0;32m    146\u001b[0m             self._do_init(master, appName, sparkHome, pyFiles, environment, batchSize, serializer,\n",
      "\u001b[1;32mC:\\spark\\spark-3.1.2-bin-hadoop3.2\\python\\pyspark\\context.py\u001b[0m in \u001b[0;36m_ensure_initialized\u001b[1;34m(cls, instance, gateway, conf)\u001b[0m\n\u001b[0;32m    340\u001b[0m \u001b[1;33m\u001b[0m\u001b[0m\n\u001b[0;32m    341\u001b[0m                     \u001b[1;31m# Raise error if there is already a running Spark context\u001b[0m\u001b[1;33m\u001b[0m\u001b[1;33m\u001b[0m\u001b[1;33m\u001b[0m\u001b[0m\n\u001b[1;32m--> 342\u001b[1;33m                     raise ValueError(\n\u001b[0m\u001b[0;32m    343\u001b[0m                         \u001b[1;34m\"Cannot run multiple SparkContexts at once; \"\u001b[0m\u001b[1;33m\u001b[0m\u001b[1;33m\u001b[0m\u001b[0m\n\u001b[0;32m    344\u001b[0m                         \u001b[1;34m\"existing SparkContext(app=%s, master=%s)\"\u001b[0m\u001b[1;33m\u001b[0m\u001b[1;33m\u001b[0m\u001b[0m\n",
      "\u001b[1;31mValueError\u001b[0m: Cannot run multiple SparkContexts at once; existing SparkContext(app=travel_operator_booking, master=local) created by __init__ at C:\\Users\\nehav\\AppData\\Local\\Temp/ipykernel_26068/2168677421.py:2 "
     ]
    }
   ],
   "source": [
    "conf = SparkConf().setAppName('travel_operator_booking').setMaster('local')\n",
    "sc = SparkContext(conf=conf)\n",
    "spark = SparkSession(sc)"
   ]
  },
  {
   "cell_type": "code",
   "execution_count": 6,
   "id": "af8843d0-1441-4794-9980-a877d4bff094",
   "metadata": {},
   "outputs": [
    {
     "data": {
      "text/plain": [
       "DataFrame[key: string, value: string]"
      ]
     },
     "execution_count": 6,
     "metadata": {},
     "output_type": "execute_result"
    }
   ],
   "source": [
    "spark.sql(\"set spark.sql.legacy.timeParserPolicy=LEGACY\")"
   ]
  },
  {
   "cell_type": "code",
   "execution_count": 8,
   "id": "8d30f2bd-8437-43e4-9cd2-4198608f4c73",
   "metadata": {},
   "outputs": [],
   "source": [
    "hotels_data_df=read_csv(READ_LOC,'true')"
   ]
  },
  {
   "cell_type": "code",
   "execution_count": 9,
   "id": "9bb4bc11-516b-42d0-9903-a8e836539753",
   "metadata": {},
   "outputs": [],
   "source": [
    "hotels_to_data_df = hotels_data_df.where('market_segment = \"Offline TA/TO\"')"
   ]
  },
  {
   "cell_type": "code",
   "execution_count": 10,
   "id": "6d5e04ba-3768-4d55-888c-ed417a298f5f",
   "metadata": {},
   "outputs": [],
   "source": [
    "hotels_data_with_arrival_date_df = calculate_arrival_date(hotels_to_data_df)"
   ]
  },
  {
   "cell_type": "code",
   "execution_count": 13,
   "id": "1ba1a2a7-5065-4cae-b22c-46dc5bfe9e78",
   "metadata": {},
   "outputs": [],
   "source": [
    "hotels_data_with_dept_date_df = calculate_departure_date(hotels_data_with_arrival_date_df)"
   ]
  },
  {
   "cell_type": "code",
   "execution_count": null,
   "id": "1818b4b4-2e03-435d-9183-079dfd776e7c",
   "metadata": {},
   "outputs": [],
   "source": [
    "hotels_data_transformed_df = is_with_family_breakfast(hotels_data_with_dept_date_df)"
   ]
  },
  {
   "cell_type": "code",
   "execution_count": 14,
   "id": "610ff700-2581-449b-9db8-af9d93a7b24d",
   "metadata": {},
   "outputs": [],
   "source": [
    "write_to_parquet(hotels_data_transformed_df,SAVE_LOC)"
   ]
  }
 ],
 "metadata": {
  "kernelspec": {
   "display_name": "Python 3 (ipykernel)",
   "language": "python",
   "name": "python3"
  },
  "language_info": {
   "codemirror_mode": {
    "name": "ipython",
    "version": 3
   },
   "file_extension": ".py",
   "mimetype": "text/x-python",
   "name": "python",
   "nbconvert_exporter": "python",
   "pygments_lexer": "ipython3",
   "version": "3.9.5"
  }
 },
 "nbformat": 4,
 "nbformat_minor": 5
}
